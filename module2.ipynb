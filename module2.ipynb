{
 "metadata": {
  "language_info": {
   "codemirror_mode": {
    "name": "ipython",
    "version": 3
   },
   "file_extension": ".py",
   "mimetype": "text/x-python",
   "name": "python",
   "nbconvert_exporter": "python",
   "pygments_lexer": "ipython3",
   "version": "3.8.5"
  },
  "orig_nbformat": 2,
  "kernelspec": {
   "name": "python385jvsc74a57bd04f04cc16a4ab2f3c48e56678a6b586496379c4763eca4ad96b15c6edc0b0dba8",
   "display_name": "Python 3.8.5 64-bit ('yangy': virtualenv)"
  },
  "metadata": {
   "interpreter": {
    "hash": "672b991b1db3f17806a788c89587656d5e4e75c506c23c4543d30a32da488122"
   }
  }
 },
 "nbformat": 4,
 "nbformat_minor": 2,
 "cells": [
  {
   "cell_type": "code",
   "execution_count": 13,
   "metadata": {},
   "outputs": [],
   "source": [
    "import pandas as pd\n",
    "import numpy as np\n",
    "import datetime\n",
    "from matplotlib.ticker import FuncFormatter\n",
    "import matplotlib.pyplot as plt\n",
    "import warnings\n",
    "import math\n"
   ]
  },
  {
   "cell_type": "code",
   "execution_count": 14,
   "metadata": {},
   "outputs": [],
   "source": [
    "f = pd.ExcelFile('KPMG_VI_New_raw_data_update_final_module2.xlsx')\n",
    "df = pd.read_excel(f, 'CustomerDemographic')"
   ]
  },
  {
   "cell_type": "code",
   "execution_count": 15,
   "metadata": {},
   "outputs": [
    {
     "output_type": "execute_result",
     "data": {
      "text/plain": [
       "Index(['Note: The data and information in this document is reflective of a hypothetical situation and client. This document is to be used for KPMG Virtual Internship purposes only. ',\n",
       "       'Unnamed: 1', 'Unnamed: 2', 'Unnamed: 3', 'Unnamed: 4', 'Unnamed: 5',\n",
       "       'Unnamed: 6', 'Unnamed: 7', 'Unnamed: 8', 'Unnamed: 9', 'Unnamed: 10',\n",
       "       'Unnamed: 11', 'Unnamed: 12'],\n",
       "      dtype='object')"
      ]
     },
     "metadata": {},
     "execution_count": 15
    }
   ],
   "source": [
    "df.columns"
   ]
  },
  {
   "cell_type": "code",
   "execution_count": 62,
   "metadata": {},
   "outputs": [
    {
     "output_type": "stream",
     "name": "stderr",
     "text": [
      "C:\\Users\\yangy\\anaconda3\\lib\\site-packages\\pandas\\core\\frame.py:4296: SettingWithCopyWarning: \nA value is trying to be set on a copy of a slice from a DataFrame\n\nSee the caveats in the documentation: https://pandas.pydata.org/pandas-docs/stable/user_guide/indexing.html#returning-a-view-versus-a-copy\n  return super().rename(\n"
     ]
    }
   ],
   "source": [
    "# df.rename(columns={\"Note: The data and information in this document is reflective of a hypothetical situation and client. This document is to be used for KPMG Virtual Internship purposes only. \"}, inplace=True)\n",
    "df.rename(columns={\n",
    "                   \"Unnamed: 1\":\"fname\", \n",
    "                   \"Unnamed: 2\":\"lname\", \n",
    "                   \"Unnamed: 3\":\"gender\", \n",
    "                   \"Unnamed: 4\":\"3year_bike_purchases\",\n",
    "                   \"Unnamed: 5\":\"DOB\",\n",
    "                   \"Unnamed: 6\":\"JT\",\n",
    "                   \"Unnamed: 7\":\"Category\",\n",
    "                   \"Unnamed: 8\":\"wealth_segment\",\n",
    "                   \"Unnamed: 9\":\"dece_Indicator\",\n",
    "                   \"Unnamed: 10\":\"default\",\n",
    "                   \"Unnamed: 11\":\"owns_car\",\n",
    "                   \"Unnamed: 12\":\"tenure\"}, inplace=True)\n",
    "df = df.iloc[1:]"
   ]
  },
  {
   "cell_type": "code",
   "execution_count": 63,
   "metadata": {},
   "outputs": [
    {
     "output_type": "execute_result",
     "data": {
      "text/plain": [
       "[2025, 1855, 88]"
      ]
     },
     "metadata": {},
     "execution_count": 63
    }
   ],
   "source": [
    "gender = [0, 0, 0]\n",
    "for each in df['gender']:\n",
    "    if each[0] == \"F\" or each [0]==\"Female\":\n",
    "        gender[0]+=1\n",
    "    elif each[0] ==\"M\" or each[0]==\"Male\":\n",
    "        gender[1]+=1\n",
    "    else:\n",
    "        gender[2]+=1\n",
    "\n",
    "gender"
   ]
  }
 ]
}